{
 "cells": [
  {
   "cell_type": "markdown",
   "metadata": {},
   "source": [
    "# Time/Space Complexity - Intro to Data Structures (User Defined)\n"
   ]
  },
  {
   "cell_type": "markdown",
   "metadata": {},
   "source": [
    "# Tasks today:\n",
    "1) <b>Time/Space Complexity</b> <br>\n",
    " &nbsp;&nbsp;&nbsp;&nbsp; a) Constant <br>\n",
    " &nbsp;&nbsp;&nbsp;&nbsp; b) Linear <br>\n",
    " &nbsp;&nbsp;&nbsp;&nbsp; c) Quadratic <br>\n",
    " &nbsp;&nbsp;&nbsp;&nbsp; d) Calculating Big O <br>\n",
    "2) <b>List Data Structures</b> <br>\n",
    " &nbsp;&nbsp;&nbsp;&nbsp; a) Arrays <br>\n",
    " &nbsp;&nbsp;&nbsp;&nbsp; b) Stacks <br>\n",
    " &nbsp;&nbsp;&nbsp;&nbsp; c) Queues <br>\n",
    "3) <b>Linked Lists</b> <br>\n",
    " &nbsp;&nbsp;&nbsp;&nbsp; a) Singly Linked Lists <br>\n",
    " &nbsp;&nbsp;&nbsp;&nbsp; b) Traversing a Linked List <br>\n",
    " &nbsp;&nbsp;&nbsp;&nbsp; c) Find a Node in Linked List <br>\n",
    " &nbsp;&nbsp;&nbsp;&nbsp; d) Adding a Node to the Linked List <br>\n",
    "4) <b>Binary Search Tree</b> <br>\n",
    " &nbsp;&nbsp;&nbsp;&nbsp; a) Construction <br>\n",
    " &nbsp;&nbsp;&nbsp;&nbsp; b) Adding a Node <br>\n",
    " &nbsp;&nbsp;&nbsp;&nbsp; c) Finding a Node <br>\n",
    "5) <b>Exercises</b> <br>\n",
    " &nbsp;&nbsp;&nbsp;&nbsp; a) Remove a Node <br>"
   ]
  },
  {
   "cell_type": "markdown",
   "metadata": {},
   "source": [
    "<table style=\"text-align:center;\" class=\"table table-bordered\">\n",
    "<tbody><tr>\n",
    "<td>constant</td>\n",
    "<td>−</td>\n",
    "<td>Ο(1)</td>\n",
    "</tr>\n",
    "<tr>\n",
    "<td>logarithmic</td>\n",
    "<td>−</td>\n",
    "<td>Ο(log n)</td>\n",
    "</tr>\n",
    "<tr>\n",
    "<td>linear</td>\n",
    "<td>−</td>\n",
    "<td>Ο(n)</td>\n",
    "</tr>\n",
    "<tr>\n",
    "<td>Linear Logarithmic</td>\n",
    "<td>−</td>\n",
    "<td>Ο(n log n)</td>\n",
    "</tr>\n",
    "<tr>\n",
    "<td>quadratic</td>\n",
    "<td>−</td>\n",
    "<td>Ο(n<sup>2</sup>)</td>\n",
    "</tr>\n",
    "<tr>\n",
    "<td>cubic</td>\n",
    "<td>−</td>\n",
    "<td>Ο(n<sup>3</sup>)</td>\n",
    "</tr>\n",
    "<tr>\n",
    "<td>polynomial</td>\n",
    "<td>−</td>\n",
    "<td>n<sup>Ο(1)</sup></td>\n",
    "</tr>\n",
    "<tr>\n",
    "<td>exponential</td>\n",
    "<td>−</td>\n",
    "<td>2<sup>Ο(n)</sup></td>\n",
    "</tr>\n",
    "</tbody></table>"
   ]
  },
  {
   "cell_type": "markdown",
   "metadata": {},
   "source": [
    "## Arrays"
   ]
  },
  {
   "cell_type": "markdown",
   "metadata": {},
   "source": [
    "In python we benefit from the dynamic array which means the block of memory will expand as needed for the given input to the array. In traditional arrays (depending on the type of operating system) we will usually store our inputs in 4 or 8 consecutive blocks of memory. "
   ]
  },
  {
   "cell_type": "markdown",
   "metadata": {},
   "source": [
    "## Which in python looks like this:"
   ]
  },
  {
   "cell_type": "code",
   "execution_count": 1,
   "metadata": {},
   "outputs": [
    {
     "name": "stdout",
     "output_type": "stream",
     "text": [
      "[1, 2, 3, 4, 5, 6, 7, 8, 9, 10]\n"
     ]
    }
   ],
   "source": [
    "list_of_ten = []\n",
    "for i in range(1,11):\n",
    "    list_of_ten.append(i)\n",
    "print(list_of_ten)"
   ]
  },
  {
   "cell_type": "code",
   "execution_count": 2,
   "metadata": {},
   "outputs": [
    {
     "name": "stdout",
     "output_type": "stream",
     "text": [
      "[1, 2, 3, 4, 5, 6, 7, 8, 9, 10]\n"
     ]
    }
   ],
   "source": [
    "list_of_10 = [i for i in range(1,11)]\n",
    "print(list_of_10)"
   ]
  },
  {
   "cell_type": "markdown",
   "metadata": {},
   "source": [
    "### Let's take a look at some of the time and space analysis of arrays"
   ]
  },
  {
   "cell_type": "code",
   "execution_count": 3,
   "metadata": {},
   "outputs": [
    {
     "name": "stdout",
     "output_type": "stream",
     "text": [
      "[88, 96, 70, 6, 83, 10, 49, 39, 41, 75]\n"
     ]
    }
   ],
   "source": [
    "import random\n",
    "\n",
    "my_arr = [random.randint(1,100) for _ in range(10)]\n",
    "print(my_arr)"
   ]
  },
  {
   "cell_type": "code",
   "execution_count": 9,
   "metadata": {},
   "outputs": [
    {
     "name": "stdout",
     "output_type": "stream",
     "text": [
      "49\n",
      "True\n",
      "False\n",
      "[88, 96, 70, 6, 83, 10, 49, 39, 41, 75]\n",
      "[88, 96, 70, 1000, 83, 10, 49, 39, 41, 75]\n"
     ]
    }
   ],
   "source": [
    "# Indexing a list\n",
    "# Constant Time and Space - O(1)\n",
    "\n",
    "indexing = my_arr[6]\n",
    "print(indexing)\n",
    "\n",
    "\n",
    "# Searching through a list\n",
    "# Linear Time - O(n) and Constant Space - O(1)\n",
    "print(41 in my_arr)\n",
    "print(76 in my_arr)\n",
    "\n",
    "# Copying a list\n",
    "# Linear Time - O(n) and Linear Space - O(n)\n",
    "copied_arr = my_arr[:]\n",
    "print(copied_arr)\n",
    "\n",
    "\n",
    "# Assigning a list index a value\n",
    "# Constant Time - O(1) and Constant Space - O(n)\n",
    "my_arr[3] = 1000\n",
    "print(my_arr)"
   ]
  },
  {
   "cell_type": "code",
   "execution_count": 28,
   "metadata": {},
   "outputs": [
    {
     "name": "stdout",
     "output_type": "stream",
     "text": [
      "1\n",
      "4\n",
      "9\n",
      "16\n",
      "4\n",
      "16\n",
      "36\n",
      "64\n",
      "9\n",
      "36\n",
      "81\n",
      "144\n",
      "16\n",
      "64\n",
      "144\n",
      "256\n",
      "1\n",
      "4\n",
      "9\n",
      "16\n"
     ]
    },
    {
     "data": {
      "text/plain": [
       "[1, 4, 9, 16]"
      ]
     },
     "execution_count": 28,
     "metadata": {},
     "output_type": "execute_result"
    }
   ],
   "source": [
    "def some_func(arr): # O((n*1) + (n * n * 1) + (n*1) + 1)\n",
    "    for x in range(len(arr)): # O(n) - Linear Time\n",
    "        arr[x] = arr[x]**2 # O(1) - Constant Time\n",
    "    for i in arr: # O(n) - Linear Time\n",
    "        for j in arr: # O(n) - Linear Time\n",
    "            print(i*j) # O(1) - Constant Time\n",
    "    for b in arr: # O(n) - Linear Time\n",
    "        print(b) # O(1) - Constant Time\n",
    "    return arr # O(1) - Constant Time\n",
    "\n",
    "some_func([1, 2, 3, 4])\n",
    "\n",
    "\n",
    "# O((n*1) + (n * n * 1) + (n*1) + 1)\n",
    "\n",
    "# Simplify\n",
    "# O(n**2 + 2n + 1)\n",
    "\n",
    "# Drop all coefficients\n",
    "# O(n**2 + n + 1)\n",
    "\n",
    "# drop lower order complexities\n",
    "# O(n**2)\n"
   ]
  },
  {
   "cell_type": "code",
   "execution_count": 12,
   "metadata": {},
   "outputs": [
    {
     "name": "stdout",
     "output_type": "stream",
     "text": [
      "15\n",
      "10.0\n"
     ]
    }
   ],
   "source": [
    "def median(lst): # O(1)\n",
    "    if len(lst) % 2 == 1: # O(1)\n",
    "        mid = len(lst) // 2 # O(1)\n",
    "        return lst[mid] # O(1)\n",
    "    else:\n",
    "        high_mid = len(lst) // 2 # O(1)\n",
    "        low_mid = len(lst) // 2 - 1 # O(1)\n",
    "        return (lst[high_mid] + lst[low_mid]) / 2 # O(1)\n",
    "    \n",
    "print(median([2, 3, 4, 6, 7, 8, 12, 15, 17, 19, 21, 24, 26, 29, 31]))\n",
    "print(median([2, 3, 4, 6, 7, 8, 12, 15, 17, 19, 21, 24]))"
   ]
  },
  {
   "cell_type": "code",
   "execution_count": 13,
   "metadata": {
    "scrolled": true
   },
   "outputs": [],
   "source": [
    "def print_all_elements(a_list): # O(n) - Linear Time\n",
    "    num_operations = 0\n",
    "    for item in a_list:\n",
    "        print(item)\n",
    "        num_operations += 1\n",
    "    print('Num Operations:', num_operations)\n",
    "    \n",
    "def print_first_element(a_list): # O(1) - Constant Time\n",
    "    num_operations = 0\n",
    "    print(a_list[0])\n",
    "    num_operations += 1\n",
    "    print('Num Operations:', num_operations)"
   ]
  },
  {
   "cell_type": "code",
   "execution_count": 23,
   "metadata": {},
   "outputs": [
    {
     "data": {
      "text/plain": [
       "[1, 2, 3, 4, 5, 6, 7, 8, 9, 10]"
      ]
     },
     "execution_count": 23,
     "metadata": {},
     "output_type": "execute_result"
    }
   ],
   "source": [
    "test_list = [i for i in range(1,11)]\n",
    "test_list"
   ]
  },
  {
   "cell_type": "code",
   "execution_count": 24,
   "metadata": {},
   "outputs": [
    {
     "name": "stdout",
     "output_type": "stream",
     "text": [
      "1\n",
      "2\n",
      "3\n",
      "4\n",
      "5\n",
      "6\n",
      "7\n",
      "8\n",
      "9\n",
      "10\n",
      "Num Operations: 10\n"
     ]
    }
   ],
   "source": [
    "print_all_elements(test_list)"
   ]
  },
  {
   "cell_type": "code",
   "execution_count": 25,
   "metadata": {},
   "outputs": [
    {
     "name": "stdout",
     "output_type": "stream",
     "text": [
      "1\n",
      "Num Operations: 1\n"
     ]
    }
   ],
   "source": [
    "print_first_element(test_list)"
   ]
  },
  {
   "cell_type": "code",
   "execution_count": 34,
   "metadata": {},
   "outputs": [],
   "source": [
    "def constant(arr):\n",
    "    num_operations = 0\n",
    "    print(arr[0])\n",
    "    num_operations += 1\n",
    "    return num_operations\n",
    "\n",
    "def linear(arr):\n",
    "    num_operations = 0\n",
    "    for item in arr:\n",
    "        print(item)\n",
    "        num_operations += 1\n",
    "    return num_operations\n",
    "\n",
    "def quadratic(arr):\n",
    "    num_operations = 0\n",
    "    for item1 in arr:\n",
    "        for item2 in arr:\n",
    "            print(item1, item2)\n",
    "            num_operations += 1\n",
    "    return num_operations"
   ]
  },
  {
   "cell_type": "code",
   "execution_count": 50,
   "metadata": {},
   "outputs": [],
   "source": [
    "nums_list = [i for i in range(1,5)]\n"
   ]
  },
  {
   "cell_type": "code",
   "execution_count": 51,
   "metadata": {
    "scrolled": false
   },
   "outputs": [
    {
     "name": "stdout",
     "output_type": "stream",
     "text": [
      "1\n",
      "Constant: 1\n",
      "==================================================\n",
      "1\n",
      "2\n",
      "3\n",
      "4\n",
      "Linear: 4\n",
      "==================================================\n",
      "1 1\n",
      "1 2\n",
      "1 3\n",
      "1 4\n",
      "2 1\n",
      "2 2\n",
      "2 3\n",
      "2 4\n",
      "3 1\n",
      "3 2\n",
      "3 3\n",
      "3 4\n",
      "4 1\n",
      "4 2\n",
      "4 3\n",
      "4 4\n",
      "Quadratic: 16\n"
     ]
    }
   ],
   "source": [
    "print(f\"Constant: {constant(nums_list)}\")\n",
    "print('='*50)\n",
    "print(f\"Linear: {linear(nums_list)}\")\n",
    "print('='*50)\n",
    "print(f\"Quadratic: {quadratic(nums_list)}\")"
   ]
  },
  {
   "cell_type": "markdown",
   "metadata": {},
   "source": [
    "## Stacks and Queues (Review)\n",
    "\n",
    "** Stacks ** as the name suggests is a data structure that allows for data to follow the Last In First Out priciple(LIFO). Think of a stack of pancakes for example. To get the first pancake you would  start with the top and go down.\n",
    "\n",
    "##### Searching through a stack will be Linear Time O(n) - Constant Space O(1)\n",
    "##### Selecting the first item will be done in Linear Time O(n) - Constant Space O(1)\n",
    "##### Selecting the last item will be done in Constant Time O(1) - Constant Space O(1)\n",
    "##### Adding to the stack will be done in Constant Time O(1) - Constant Space O(1)\n",
    "\n",
    "** Queues ** are similar but in this case follow the First In First Out principle(FIFO). Think of this as a line in a black friday sale. The first person camped out for the big screen tv is the first to get it.\n",
    "\n",
    "##### Searching through a queue will be Linear Time O(n) - Constant Space O(1)\n",
    "##### Selecting the first item will be done in Constant Time O(1) - Constant Space O(1)\n",
    "##### Selecting the last item will be done in Linear Time O(n) - Constant Space O(1)\n",
    "##### Adding to the queue should take Constant Time O(1) - Constant Space O(1)"
   ]
  },
  {
   "cell_type": "code",
   "execution_count": 52,
   "metadata": {},
   "outputs": [],
   "source": [
    "# https://docs.python.org/3/library/collections.html#collections.deque\n",
    "from collections import deque"
   ]
  },
  {
   "cell_type": "code",
   "execution_count": 54,
   "metadata": {},
   "outputs": [
    {
     "name": "stdout",
     "output_type": "stream",
     "text": [
      "Stack:\n",
      "deque([10, 20, 30, 40, 50])\n",
      "50\n",
      "deque([10, 20, 30, 40])\n",
      "40\n",
      "deque([10, 20, 30])\n",
      "30\n",
      "deque([10, 20])\n",
      "20\n",
      "deque([10])\n",
      "10\n",
      "deque([])\n"
     ]
    }
   ],
   "source": [
    "print('Stack:')\n",
    "\n",
    "stack = deque()\n",
    "\n",
    "stack.append(10)\n",
    "stack.append(20)\n",
    "stack.append(30)\n",
    "stack.append(40)\n",
    "stack.append(50)\n",
    "\n",
    "print(stack)\n",
    "\n",
    "while stack:\n",
    "    print(stack.pop())\n",
    "    print(stack)"
   ]
  },
  {
   "cell_type": "code",
   "execution_count": 55,
   "metadata": {},
   "outputs": [
    {
     "name": "stdout",
     "output_type": "stream",
     "text": [
      "Queue:\n",
      "deque(['Brian', 'Sarah', 'Kevin', 'Dylan', 'Aften'])\n",
      "Brian\n",
      "deque(['Sarah', 'Kevin', 'Dylan', 'Aften'])\n",
      "Sarah\n",
      "deque(['Kevin', 'Dylan', 'Aften'])\n",
      "Kevin\n",
      "deque(['Dylan', 'Aften'])\n",
      "Dylan\n",
      "deque(['Aften'])\n",
      "Aften\n",
      "deque([])\n"
     ]
    }
   ],
   "source": [
    "print('Queue:')\n",
    "\n",
    "queue = deque()\n",
    "\n",
    "queue.append('Brian')\n",
    "queue.append('Sarah')\n",
    "queue.append('Kevin')\n",
    "queue.append('Dylan')\n",
    "queue.append('Aften')\n",
    "\n",
    "\n",
    "print(queue)\n",
    "\n",
    "while queue:\n",
    "    print(queue.popleft()) # Set up to be a constant O(1) operation\n",
    "    print(queue)"
   ]
  },
  {
   "cell_type": "code",
   "execution_count": 60,
   "metadata": {},
   "outputs": [
    {
     "name": "stdout",
     "output_type": "stream",
     "text": [
      "Normal List:\n",
      "Brian\n",
      "['Sarah', 'Kevin', 'Dylan', 'Aften']\n",
      "Sarah\n",
      "['Kevin', 'Dylan', 'Aften']\n",
      "Kevin\n",
      "['Dylan', 'Aften']\n",
      "Dylan\n",
      "['Aften']\n",
      "Aften\n",
      "[]\n"
     ]
    }
   ],
   "source": [
    "print(\"Normal List:\")\n",
    "\n",
    "queue = []\n",
    "\n",
    "queue.append('Brian')\n",
    "queue.append('Sarah')\n",
    "queue.append('Kevin')\n",
    "queue.append('Dylan')\n",
    "queue.append('Aften')\n",
    "\n",
    "while queue:\n",
    "    print(queue.pop(0)) # This is an O(n) operation on a normal list\n",
    "    print(queue)"
   ]
  },
  {
   "cell_type": "code",
   "execution_count": 58,
   "metadata": {},
   "outputs": [
    {
     "name": "stdout",
     "output_type": "stream",
     "text": [
      "Help on method_descriptor:\n",
      "\n",
      "pop(self, index=-1, /)\n",
      "    Remove and return item at index (default last).\n",
      "    \n",
      "    Raises IndexError if list is empty or index is out of range.\n",
      "\n"
     ]
    }
   ],
   "source": [
    "help(list.pop)"
   ]
  },
  {
   "cell_type": "markdown",
   "metadata": {},
   "source": [
    "## Linked List (Data Structure)\n",
    "\n",
    "A linked list is created by using the node class. We create a Node object and create another class to use this node object. We pass the appropriate values thorugh the node object to point the to the next data elements.\n",
    "\n",
    "There are some advantages and disadvantages with this data structure. **Advantages** Linked Lists can save memory because they can be flexibile with memory management which saves memory. **Disadvantages** Finding or adding to the list requires traversing the entire list."
   ]
  },
  {
   "cell_type": "code",
   "execution_count": 62,
   "metadata": {},
   "outputs": [
    {
     "name": "stdout",
     "output_type": "stream",
     "text": [
      "January\n",
      "February\n",
      "April\n"
     ]
    }
   ],
   "source": [
    "class LinkedListNode:\n",
    "    def __init__(self, value):\n",
    "        self.value = value\n",
    "        self.next = None\n",
    "        \n",
    "    def traverse(self):\n",
    "        node = self\n",
    "        while node is not None:\n",
    "            print(node.value)\n",
    "            node = node.next\n",
    "            \n",
    "            \n",
    "node1 = LinkedListNode('January')\n",
    "node2 = LinkedListNode('February')\n",
    "node3 = LinkedListNode('April')\n",
    "\n",
    "node1.next = node2\n",
    "node2.next = node3\n",
    "\n",
    "node1.traverse()"
   ]
  },
  {
   "cell_type": "code",
   "execution_count": 79,
   "metadata": {},
   "outputs": [
    {
     "name": "stdout",
     "output_type": "stream",
     "text": [
      "January\n",
      "February\n",
      "March\n",
      "April\n",
      "May\n",
      "June\n",
      "July\n",
      "August\n",
      "September\n",
      "October\n",
      "November\n",
      "December\n"
     ]
    }
   ],
   "source": [
    "# Complete Implementation of Linked List\n",
    "# - Add new node to the front of the linked list\n",
    "# - Add new node to the end of the linked list\n",
    "# - Get a node by its value\n",
    "# - Insert new node after a particular node\n",
    "# - Traverse through the linked list and print values\n",
    "\n",
    "\n",
    "# 2 Classes - Node Class and Linked List Class\n",
    "\n",
    "class Node:\n",
    "    def __init__(self, value):\n",
    "        self.value = value\n",
    "        self.next = None\n",
    "        \n",
    "    def __str__(self):\n",
    "        return str(self.value)\n",
    "    \n",
    "    def __repr__(self):\n",
    "        return f\"<Node|{self.value}>\"\n",
    "    \n",
    "    \n",
    "class LinkedList:\n",
    "    def __init__(self, head_node=None):\n",
    "        # head attribute will point to the first node of the Linked List\n",
    "        self.head = head_node\n",
    "        \n",
    "    # Method to add a new node to the beginning of the linked list\n",
    "    def push_on(self, new_value): # O(1) - Constant Time \n",
    "        # Create a new node with the value passed in\n",
    "        new_node = Node(new_value)\n",
    "        # Set the new_node's .next attribute to be the current head\n",
    "        new_node.next = self.head\n",
    "        # Set the head of the linked list to the new node\n",
    "        self.head = new_node\n",
    "        \n",
    "    # Method to print out all of the nodes in the Linked List in order\n",
    "    def print_list(self):\n",
    "        # Start at the beginning of the list\n",
    "        node = self.head\n",
    "        # While the node is a node (and not None), continue to loop\n",
    "        while node is not None:\n",
    "            # Print the node (which will call the Node __str__ method)\n",
    "            print(node)\n",
    "            # Go to the next node in the list\n",
    "            node = node.next\n",
    "            \n",
    "    # Method to add a new node to the end of the linked list\n",
    "    def append(self, new_value): # O(n) - Linear Time\n",
    "        # Create a new node with the value passed in\n",
    "        new_node = Node(new_value)\n",
    "        # Check if the linked is empty\n",
    "        if self.head is None:\n",
    "            # Set the head to be the new node\n",
    "            self.head = new_node\n",
    "        # If not empty\n",
    "        else:\n",
    "            # Traverse to the end of the list\n",
    "            node = self.head\n",
    "            while node.next is not None:\n",
    "                # Move to the next node\n",
    "                node = node.next\n",
    "            # once the node.next IS None, set that node's .next to be the newly created node\n",
    "            node.next = new_node\n",
    "            \n",
    "    # Method to get a node by value or return None if not in the Linked List\n",
    "    def get_node(self, value_to_get):\n",
    "        # Start with the head\n",
    "        node_to_check = self.head\n",
    "        # while node_to_check is a node\n",
    "        while node_to_check is not None:\n",
    "            # Check if that is the node we are looking for\n",
    "            if node_to_check.value == value_to_get:\n",
    "                # Return that node\n",
    "                return node_to_check\n",
    "            # if not, move on to the next node\n",
    "            node_to_check = node_to_check.next\n",
    "        # Once the node to check is None, we know the value to get is not in the linked list\n",
    "        return None\n",
    "    \n",
    "    # Method to insert a new node in the linked list after a certain node (by value)\n",
    "    def insert_after(self, prev_value, new_value):\n",
    "        # Get the previous node by value\n",
    "        prev_node = self.get_node(prev_value)\n",
    "        # Make sure the node exists\n",
    "        if prev_node is None:\n",
    "            print(f\"{prev_value} is not in the linked list\")\n",
    "        else:\n",
    "            # Create a new node with the new value\n",
    "            new_node = Node(new_value)\n",
    "            # point the new_node's .next attribute at the previous node's .next\n",
    "            new_node.next = prev_node.next\n",
    "            # point the prev_node's .next to the new node\n",
    "            prev_node.next = new_node\n",
    "            \n",
    "            \n",
    "    \n",
    "        \n",
    "        \n",
    "months = LinkedList()\n",
    "months.append('July')\n",
    "months.append('August')\n",
    "months.push_on('June')\n",
    "months.push_on('March')\n",
    "months.push_on('February')\n",
    "months.append('September')\n",
    "months.insert_after('March', 'April')\n",
    "months.insert_after('April', 'May')\n",
    "months.append('November')\n",
    "months.insert_after('September', 'October')\n",
    "months.append('December')\n",
    "months.push_on('January')\n",
    "months.print_list()"
   ]
  },
  {
   "cell_type": "code",
   "execution_count": 80,
   "metadata": {},
   "outputs": [],
   "source": [
    "import time"
   ]
  },
  {
   "cell_type": "code",
   "execution_count": 85,
   "metadata": {},
   "outputs": [
    {
     "name": "stdout",
     "output_type": "stream",
     "text": [
      "0.46337056159973145\n",
      "0.0072367191314697266\n"
     ]
    }
   ],
   "source": [
    "# Adding a new node the end of the list - O(n) - Linear Time\n",
    "a_linked_list = LinkedList()\n",
    "\n",
    "start = time.time()\n",
    "\n",
    "for i in range(1000):\n",
    "    a_linked_list.append(i)\n",
    "\n",
    "end = time.time()\n",
    "\n",
    "print(end - start)\n",
    "\n",
    "# Adding a new node to the beginning of the list - O(1) - Constant Time\n",
    "b_linked_list = LinkedList()\n",
    "\n",
    "start = time.time()\n",
    "\n",
    "for i in range(1000):\n",
    "    b_linked_list.push_on(i)\n",
    "\n",
    "end = time.time()\n",
    "\n",
    "print(end - start)"
   ]
  },
  {
   "cell_type": "code",
   "execution_count": 91,
   "metadata": {},
   "outputs": [
    {
     "name": "stdout",
     "output_type": "stream",
     "text": [
      "0.00101470947265625\n",
      "0.0021140575408935547\n"
     ]
    }
   ],
   "source": [
    "# Adding to the end of Python's built in list - O(1) - Constant Time\n",
    "normal_list_a = []\n",
    "\n",
    "start = time.time()\n",
    "\n",
    "for i in range(1000):\n",
    "    normal_list_a.append(i)\n",
    "\n",
    "end = time.time()\n",
    "\n",
    "print(end - start)\n",
    "\n",
    "# Adding a to the beginning of Python's built in list - O(n) - Linear Time\n",
    "normal_list_b = []\n",
    "\n",
    "start = time.time()\n",
    "\n",
    "for i in range(1000):\n",
    "    normal_list_b.insert(0, i)\n",
    "\n",
    "end = time.time()\n",
    "\n",
    "print(end - start)"
   ]
  },
  {
   "cell_type": "markdown",
   "metadata": {},
   "source": [
    "## Binary Search Trees"
   ]
  },
  {
   "cell_type": "code",
   "execution_count": 7,
   "metadata": {},
   "outputs": [],
   "source": [
    "class BST:\n",
    "    def __init__(self, value):\n",
    "        self.value = value\n",
    "        self.left = None\n",
    "        self.right = None\n",
    "        \n",
    "    def __repr__(self):\n",
    "        return f\"<BST|{self.value}>\"\n",
    "    \n",
    "    # Method to add a new node to the tree\n",
    "    def insert(self, new_value):\n",
    "        # If the new value is less than the current node's value\n",
    "        if new_value < self.value:\n",
    "            # if the current node has no left subtree\n",
    "            if self.left is None:\n",
    "                # Set the left left subtree to be a new instance of BST with new value\n",
    "                self.left = BST(new_value)\n",
    "            # If the current node DOES have a left subtree\n",
    "            else:\n",
    "                # Call the insert method from the left subtree\n",
    "                self.left.insert(new_value)\n",
    "        # if the new value is greater than or equal to current node\n",
    "        else:\n",
    "            # Check the right node\n",
    "            if self.right is None:\n",
    "                # Set the right subtree to a new instance\n",
    "                self.right = BST(new_value)\n",
    "            else:\n",
    "                # Call the insert method from the right subtree\n",
    "                self.right.insert(new_value)\n",
    "                \n",
    "    # Method to find a node based on a value - will return either a BST Node or None\n",
    "    def find_node(self, target):\n",
    "        # if target is equal to the current node's value\n",
    "        if target == self.value:\n",
    "            # Return that node\n",
    "            return self\n",
    "        # If the target is less than the current node's value\n",
    "        elif target < self.value:\n",
    "            # See if the current node's left subtree is empty\n",
    "            if self.left is None:\n",
    "                # We know the target is not in the tree because it would be here (or at least on this path)\n",
    "                return None\n",
    "            # if the current node does have a left subtree\n",
    "            else:\n",
    "                # Call the find_node method from the left subtree and return that value\n",
    "                return self.left.find_node(target)\n",
    "        # If the target is greater than the current node's value\n",
    "        elif target > self.value:\n",
    "            # See if the current node's right subtree is empty\n",
    "            if self.right is None:\n",
    "                # We know the target is not in the tree because it would be here (or at least on this path)\n",
    "                return None\n",
    "            # if the current node does have a left subtree\n",
    "            else:\n",
    "                # Call the find_node method from the right subtree and return that value\n",
    "                return self.right.find_node(target)\n",
    "            \n",
    "    # Method to get the max value in the tree\n",
    "    def get_max_value(self):\n",
    "        if self.right is None:\n",
    "            return self.value\n",
    "        else:\n",
    "            return self.right.get_max_value()\n",
    "        \n",
    "    # Method to get the min value in the tree\n",
    "    def get_min_value(self):\n",
    "        if self.left is None:\n",
    "            return self.value\n",
    "        else:\n",
    "            return self.left.get_min_value()\n",
    "    \n",
    "    \n",
    "tree = BST(50)\n",
    "tree.insert(40)\n",
    "tree.insert(35)\n",
    "tree.insert(70)\n",
    "tree.insert(55)\n",
    "tree.insert(75)\n",
    "tree.insert(10)\n",
    "tree.insert(15)\n",
    "tree.find_node(50)\n",
    "tree.find_node(10)\n",
    "tree.find_node(70)\n",
    "tree.find_node(99)"
   ]
  },
  {
   "cell_type": "code",
   "execution_count": 8,
   "metadata": {},
   "outputs": [
    {
     "name": "stdout",
     "output_type": "stream",
     "text": [
      "10\n"
     ]
    }
   ],
   "source": [
    "smallest = tree.get_min_value()\n",
    "print(smallest)"
   ]
  },
  {
   "cell_type": "code",
   "execution_count": 9,
   "metadata": {},
   "outputs": [
    {
     "name": "stdout",
     "output_type": "stream",
     "text": [
      "75\n"
     ]
    }
   ],
   "source": [
    "largest = tree.get_max_value()\n",
    "print(largest)"
   ]
  },
  {
   "cell_type": "markdown",
   "metadata": {},
   "source": [
    "# Homework"
   ]
  },
  {
   "cell_type": "markdown",
   "metadata": {},
   "source": [
    "#### Problem 1: Add a .remove method to the LinkedList\n",
    "\n",
    "Update the `.remove` method to the LinkedList class to remove a node from the list.\n",
    "\n",
    "The method should take in the value to remove and remove the node with that value from the LinkedList."
   ]
  },
  {
   "cell_type": "code",
   "execution_count": 2,
   "metadata": {
    "scrolled": true
   },
   "outputs": [
    {
     "name": "stdout",
     "output_type": "stream",
     "text": [
      "Sunday\n",
      "Monday\n",
      "Wednesday\n",
      "Thursday\n",
      "Friday\n",
      "Saturday\n"
     ]
    }
   ],
   "source": [
    "class Node:\n",
    "    def __init__(self, value):\n",
    "        self.value = value\n",
    "        self.next = None\n",
    "        \n",
    "    def __str__(self):\n",
    "        return str(self.value)\n",
    "    \n",
    "    def __repr__(self):\n",
    "        return f\"<Node|{self.value}>\"\n",
    "\n",
    "class LinkedList:\n",
    "    def __init__(self, head_node=None):\n",
    "        self.head = head_node\n",
    "        \n",
    "    def push_on(self, new_value):\n",
    "        new_node = Node(new_value)\n",
    "        new_node.next = self.head\n",
    "        self.head = new_node\n",
    "        \n",
    "    def traverse_list(self):\n",
    "        node = self.head\n",
    "        while node is not None:\n",
    "            print(node)\n",
    "            node = node.next\n",
    "            \n",
    "    def append(self, new_value):\n",
    "        new_node = Node(new_value)\n",
    "        if self.head is None:\n",
    "            self.head = new_node\n",
    "        else:\n",
    "            node = self.head\n",
    "            while node.next is not None:\n",
    "                node = node.next\n",
    "            node.next = new_node\n",
    "            \n",
    "    def get_node(self, value_to_get):\n",
    "        node_to_check = self.head\n",
    "        while node_to_check is not None:\n",
    "            if node_to_check.value == value_to_get:\n",
    "                return node_to_check\n",
    "            node_to_check = node_to_check.next\n",
    "        return None\n",
    "    \n",
    "    def insert_after(self, prev_value, new_value):\n",
    "        prev_node = self.get_node(prev_value)\n",
    "        if prev_node is None:\n",
    "            print(f\"{prev_value} is not in the linked list.\")\n",
    "        else:\n",
    "            new_node = Node(new_value)\n",
    "            new_node.next = prev_node.next\n",
    "            prev_node.next = new_node\n",
    "            \n",
    "    def find_before(self, value_to_get):\n",
    "        node = self.head\n",
    "        while node.next is not None:\n",
    "            if node.next.value == value_to_get:\n",
    "                return node\n",
    "            node = node.next\n",
    "        return None\n",
    "            \n",
    "    def remove(self, value_to_remove):\n",
    "        if self.head is None:\n",
    "            return\n",
    "\n",
    "        if self.head.value == value_to_remove:\n",
    "            self.head = self.head.next\n",
    "            return\n",
    "\n",
    "        current = self.head\n",
    "        while current.next is not None:\n",
    "            if current.next.value == value_to_remove:\n",
    "                break\n",
    "            current = current.next\n",
    "\n",
    "        if current.next is None:\n",
    "            return\n",
    "\n",
    "        current.next = current.next.next\n",
    "        \n",
    "    \n",
    "\n",
    "weekdays = LinkedList()\n",
    "list_of_days = ['Sunday', 'Monday', 'Tuesday', 'Wednesday', 'Thursday', 'Friday', 'Saturday']\n",
    "for day in list_of_days:\n",
    "    weekdays.append(day)\n",
    "\n",
    "weekdays.remove('Tuesday')\n",
    "\n",
    "weekdays.traverse_list()"
   ]
  },
  {
   "cell_type": "code",
   "execution_count": null,
   "metadata": {},
   "outputs": [],
   "source": []
  }
 ],
 "metadata": {
  "kernelspec": {
   "display_name": "Python 3 (ipykernel)",
   "language": "python",
   "name": "python3"
  },
  "language_info": {
   "codemirror_mode": {
    "name": "ipython",
    "version": 3
   },
   "file_extension": ".py",
   "mimetype": "text/x-python",
   "name": "python",
   "nbconvert_exporter": "python",
   "pygments_lexer": "ipython3",
   "version": "3.12.2"
  }
 },
 "nbformat": 4,
 "nbformat_minor": 2
}
